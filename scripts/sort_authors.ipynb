{
 "cells": [
  {
   "cell_type": "code",
   "execution_count": 1,
   "metadata": {
    "ExecuteTime": {
     "end_time": "2021-07-30T08:56:56.103763Z",
     "start_time": "2021-07-30T08:56:56.096555Z"
    }
   },
   "outputs": [],
   "source": [
    "from pathlib import Path"
   ]
  },
  {
   "cell_type": "code",
   "execution_count": 20,
   "metadata": {
    "ExecuteTime": {
     "end_time": "2021-07-30T09:00:46.773239Z",
     "start_time": "2021-07-30T09:00:46.734593Z"
    }
   },
   "outputs": [],
   "source": [
    "author_lines = r\"\"\"\n",
    "David Chamont\\affmark[8] % ORCID: 0000-0003-2618-7355\n",
    "\\and\n",
    "Stefan Roiser\\affmark[2] % ORCID: 0000-0002-5600-8592\n",
    "\\and\n",
    "Andrea Valassi\\affmark[2] % ORCID: 0000-0001-9322-9565\n",
    "\\and\n",
    "Clemens Lange\\affmark[2] % ORCID: 0000-0002-3632-3157\n",
    "\\and\n",
    "Amber Roepe\\affmark[34] % ORCID: 0000-0001-5933-9357\n",
    "\\and\n",
    "Giordon Stark\\affmark[9] % 0000-0001-6616-3433\n",
    "\\and\n",
    "Judita ~Mamu{\\v{z}}i{\\'{c}}\\affmark[10] % 0000-0002-3203-4243\n",
    "\\and\n",
    "Arturo S\\'{a}nchez Pineda\\affmark[11] % 0000-0001-8241-7835\n",
    "\\and\n",
    "Philipp Gadow\\affmark[12] % ORCID: 0000-0003-4475-6734\n",
    "\\and\n",
    "Robin Newhouse\\affmark[13]\n",
    "\\and\n",
    "Scarlet Norberg\\affmark[1]\n",
    "\\and\n",
    "Emery Nibigira\\affmark[14]\n",
    "\\and\n",
    "Savannah Thais\\affmark[7]\n",
    "\\and\n",
    "Matthew Feickert\\affmark[6]% ORCID: 0000-0003-4124-7862\n",
    "\\and\n",
    "Daniel Guest\\affmark[15]\n",
    "\\and\n",
    "Maximilian M. Horzela\\affmark[16]% ORCID: 0000-0002-3190-7962\n",
    "\\and\n",
    "Konstantin Lehmann\\affmark[17] % ORCID: 0000-0002-8590-8231\n",
    "\\and\n",
    "Stefan Wunsch\\affmark[2,16]\n",
    "\\and\n",
    "Lukas Heinrich\\affmark[2]\n",
    "\\and\n",
    "Henry Schreiner\\affmark[7]\n",
    "\\and\n",
    "Matthew Bellis\\affmark[18] % ORCID: 0000-0002-6353-6043\n",
    "\\and\n",
    "Mason Proffitt\\affmark[19] % https://orcid.org/0000-0003-0323-8252\n",
    "\\and\n",
    "Stephen Nicholas Swatman\\affmark[2,20]\n",
    "\\and\n",
    "Oksana Shadura\\affmark[21] %ORCID: 0000-0001-5356-2494\n",
    "\\and\n",
    "Kevin Nelson\\affmark[22] %ORCID: 0000-0003-4194-1790\n",
    "\\and\n",
    "Brendan Regnery\\affmark[23]\n",
    "\\and\n",
    "Johan Sebastian Bonilla\\affmark[23]\n",
    "\\and\n",
    "Angela Burger\\affmark[24] %ORCID: 0000-0003-0685-4122\n",
    "\\and\n",
    "Ke Li\\affmark[19]\n",
    "\\and\n",
    "Riccardo Maria Bianchi\\affmark[25] %ORCID: 0000-0001-7345-7798 \n",
    "\\and\n",
    "Marc Huwiler\\affmark[26]\n",
    "\\and\n",
    "Jackson Burzynski\\affmark[27]\n",
    "\\and\n",
    "Devdatta Majumder\\affmark[28]\n",
    "\\and\n",
    "Siqi Yuan\\affmark[29]\n",
    "\\and\n",
    "Gianluca Bianco\\affmark[30,31]\n",
    "\\and\n",
    "David Yakobovitch\\affmark[32]\n",
    "\\and\n",
    "Sizar Aziz\\affmark[8]\n",
    "\\and\n",
    "Stephan Hageboeck\\affmark[2] %ORCID: 0000-0001-9359-2196\n",
    "\\and\n",
    "Bernhard Manfred Gruber\\affmark[2,35,36] %ORCID: 0000-0001-7848-1690\n",
    "\"\"\".split(\"\\n\")"
   ]
  },
  {
   "cell_type": "code",
   "execution_count": 21,
   "metadata": {
    "ExecuteTime": {
     "end_time": "2021-07-30T09:00:47.066718Z",
     "start_time": "2021-07-30T09:00:47.044642Z"
    }
   },
   "outputs": [],
   "source": [
    "real_author_lines = [l for l in author_lines if not r\"\\and\" in l and l]"
   ]
  },
  {
   "cell_type": "code",
   "execution_count": 23,
   "metadata": {
    "ExecuteTime": {
     "end_time": "2021-07-30T09:02:08.546707Z",
     "start_time": "2021-07-30T09:02:08.530617Z"
    }
   },
   "outputs": [],
   "source": [
    "def get_last_name(author_line: str):\n",
    "    name = author_line.split(r\"\\affmark\")[0]\n",
    "    last_name = name.split(\" \")[-1]\n",
    "    if last_name.startswith(\"~\"):\n",
    "        last_name = last_name[1:]\n",
    "    return last_name"
   ]
  },
  {
   "cell_type": "code",
   "execution_count": 28,
   "metadata": {
    "ExecuteTime": {
     "end_time": "2021-07-30T09:03:35.590493Z",
     "start_time": "2021-07-30T09:03:35.576035Z"
    }
   },
   "outputs": [
    {
     "name": "stdout",
     "output_type": "stream",
     "text": [
      "Sizar Aziz\\affmark[8]\n",
      "\\and\n",
      "Matthew Bellis\\affmark[18] % ORCID: 0000-0002-6353-6043\n",
      "\\and\n",
      "Riccardo Maria Bianchi\\affmark[25] %ORCID: 0000-0001-7345-7798 \n",
      "\\and\n",
      "Gianluca Bianco\\affmark[30,31]\n",
      "\\and\n",
      "Johan Sebastian Bonilla\\affmark[23]\n",
      "\\and\n",
      "Angela Burger\\affmark[24] %ORCID: 0000-0003-0685-4122\n",
      "\\and\n",
      "Jackson Burzynski\\affmark[27]\n",
      "\\and\n",
      "David Chamont\\affmark[8] % ORCID: 0000-0003-2618-7355\n",
      "\\and\n",
      "Matthew Feickert\\affmark[6]% ORCID: 0000-0003-4124-7862\n",
      "\\and\n",
      "Philipp Gadow\\affmark[12] % ORCID: 0000-0003-4475-6734\n",
      "\\and\n",
      "Bernhard Manfred Gruber\\affmark[2,35,36] %ORCID: 0000-0001-7848-1690\n",
      "\\and\n",
      "Daniel Guest\\affmark[15]\n",
      "\\and\n",
      "Stephan Hageboeck\\affmark[2] %ORCID: 0000-0001-9359-2196\n",
      "\\and\n",
      "Lukas Heinrich\\affmark[2]\n",
      "\\and\n",
      "Maximilian M. Horzela\\affmark[16]% ORCID: 0000-0002-3190-7962\n",
      "\\and\n",
      "Marc Huwiler\\affmark[26]\n",
      "\\and\n",
      "Clemens Lange\\affmark[2] % ORCID: 0000-0002-3632-3157\n",
      "\\and\n",
      "Konstantin Lehmann\\affmark[17] % ORCID: 0000-0002-8590-8231\n",
      "\\and\n",
      "Ke Li\\affmark[19]\n",
      "\\and\n",
      "Devdatta Majumder\\affmark[28]\n",
      "\\and\n",
      "Judita ~Mamu{\\v{z}}i{\\'{c}}\\affmark[10] % 0000-0002-3203-4243\n",
      "\\and\n",
      "Kevin Nelson\\affmark[22] %ORCID: 0000-0003-4194-1790\n",
      "\\and\n",
      "Robin Newhouse\\affmark[13]\n",
      "\\and\n",
      "Emery Nibigira\\affmark[14]\n",
      "\\and\n",
      "Scarlet Norberg\\affmark[1]\n",
      "\\and\n",
      "Arturo S\\'{a}nchez Pineda\\affmark[11] % 0000-0001-8241-7835\n",
      "\\and\n",
      "Mason Proffitt\\affmark[19] % https://orcid.org/0000-0003-0323-8252\n",
      "\\and\n",
      "Brendan Regnery\\affmark[23]\n",
      "\\and\n",
      "Amber Roepe\\affmark[34] % ORCID: 0000-0001-5933-9357\n",
      "\\and\n",
      "Stefan Roiser\\affmark[2] % ORCID: 0000-0002-5600-8592\n",
      "\\and\n",
      "Henry Schreiner\\affmark[7]\n",
      "\\and\n",
      "Oksana Shadura\\affmark[21] %ORCID: 0000-0001-5356-2494\n",
      "\\and\n",
      "Giordon Stark\\affmark[9] % 0000-0001-6616-3433\n",
      "\\and\n",
      "Stephen Nicholas Swatman\\affmark[2,20]\n",
      "\\and\n",
      "Savannah Thais\\affmark[7]\n",
      "\\and\n",
      "Andrea Valassi\\affmark[2] % ORCID: 0000-0001-9322-9565\n",
      "\\and\n",
      "Stefan Wunsch\\affmark[2,16]\n",
      "\\and\n",
      "David Yakobovitch\\affmark[32]\n",
      "\\and\n",
      "Siqi Yuan\\affmark[29]\n"
     ]
    }
   ],
   "source": [
    "print(\"\\n\\\\and\\n\".join(sorted(real_author_lines, key=get_last_name)))"
   ]
  },
  {
   "cell_type": "code",
   "execution_count": null,
   "metadata": {},
   "outputs": [],
   "source": []
  }
 ],
 "metadata": {
  "kernelspec": {
   "display_name": "Python 3",
   "language": "python",
   "name": "python3"
  },
  "language_info": {
   "codemirror_mode": {
    "name": "ipython",
    "version": 3
   },
   "file_extension": ".py",
   "mimetype": "text/x-python",
   "name": "python",
   "nbconvert_exporter": "python",
   "pygments_lexer": "ipython3",
   "version": "3.7.5"
  },
  "toc": {
   "base_numbering": 1,
   "nav_menu": {},
   "number_sections": true,
   "sideBar": true,
   "skip_h1_title": false,
   "title_cell": "Table of Contents",
   "title_sidebar": "Contents",
   "toc_cell": false,
   "toc_position": {},
   "toc_section_display": true,
   "toc_window_display": false
  },
  "varInspector": {
   "cols": {
    "lenName": 16,
    "lenType": 16,
    "lenVar": 40
   },
   "kernels_config": {
    "python": {
     "delete_cmd_postfix": "",
     "delete_cmd_prefix": "del ",
     "library": "var_list.py",
     "varRefreshCmd": "print(var_dic_list())"
    },
    "r": {
     "delete_cmd_postfix": ") ",
     "delete_cmd_prefix": "rm(",
     "library": "var_list.r",
     "varRefreshCmd": "cat(var_dic_list()) "
    }
   },
   "types_to_exclude": [
    "module",
    "function",
    "builtin_function_or_method",
    "instance",
    "_Feature"
   ],
   "window_display": false
  }
 },
 "nbformat": 4,
 "nbformat_minor": 4
}
